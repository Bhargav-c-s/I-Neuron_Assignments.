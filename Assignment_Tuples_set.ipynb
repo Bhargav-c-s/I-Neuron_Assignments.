{
 "cells": [
  {
   "cell_type": "code",
   "execution_count": 1,
   "id": "7adcc01b",
   "metadata": {},
   "outputs": [
    {
     "data": {
      "text/plain": [
       "7257600"
      ]
     },
     "execution_count": 1,
     "metadata": {},
     "output_type": "execute_result"
    }
   ],
   "source": [
    "\"\"\" Q 1.1 Write a program to implement your own myreduce() funtion \n",
    "           which works exactly like pythons built_in function reduce(). \"\"\"\n",
    "\n",
    "def myreduce(function, iterable, initializer=None):\n",
    "    it = iter(iterable)\n",
    "    if initializer is None:\n",
    "        value = next(it)\n",
    "    else:\n",
    "        value = initializer\n",
    "    for element in it:\n",
    "        value = function(value, element)\n",
    "    return value\n",
    "\n",
    "l = [1,2,3,4,5,6,7,8,9,10]\n",
    "\n",
    "def mul(a,b):\n",
    "    return a*b\n",
    "\n",
    "myreduce(mul,l,2)"
   ]
  },
  {
   "cell_type": "code",
   "execution_count": 2,
   "id": "eff8e127",
   "metadata": {},
   "outputs": [
    {
     "data": {
      "text/plain": [
       "[2, 4, 6, 8, 5678, 890, 1234]"
      ]
     },
     "execution_count": 2,
     "metadata": {},
     "output_type": "execute_result"
    }
   ],
   "source": [
    "\"\"\" Q 1.2 Write a program to implement your own myfilter() funtion \n",
    "           which works exactly like pythons built_in function filter(). \"\"\"\n",
    "\n",
    "\n",
    "\"\"\" FILTER always verifies the condition provided in the function, if it is \n",
    "      True then it adds the value to the output List, \n",
    "      hence Filter function can be relaced by List Comprehensions. \n",
    "      And it is considered as the practical implementation of \n",
    "      Filter function. \"\"\"\n",
    "\n",
    "def is_even(a):\n",
    "    if a%2==0:\n",
    "        return True\n",
    "\n",
    "list_1=[2,3,4,5,6,7,8,9,12345,5678,890,1234,567]\n",
    "\n",
    "def myfilter(function,iterable):\n",
    "    it = iter(iterable)\n",
    "    return [item for item in it if function(item)]\n",
    "\n",
    "myfilter(is_even,list_1)"
   ]
  },
  {
   "cell_type": "markdown",
   "id": "996b9c7a",
   "metadata": {},
   "source": [
    "Q.2 Write list comprehensions to produce the following lists."
   ]
  },
  {
   "cell_type": "code",
   "execution_count": 19,
   "id": "0cfd4f24",
   "metadata": {},
   "outputs": [
    {
     "data": {
      "text/plain": [
       "['x', 'xx', 'xxx', 'xxxx', 'y', 'yy', 'yyy', 'yyyy', 'z', 'zz', 'zzz', 'zzzz']"
      ]
     },
     "execution_count": 19,
     "metadata": {},
     "output_type": "execute_result"
    }
   ],
   "source": [
    "l = []\n",
    "[l.append(i) or l.append(2*i) or l.append(3*i) or l.append(4*i) for i in ['x','y','z']]\n",
    "l"
   ]
  },
  {
   "cell_type": "code",
   "execution_count": 27,
   "id": "876a2a97",
   "metadata": {},
   "outputs": [
    {
     "data": {
      "text/plain": [
       "['x', 'y', 'z', 'xx', 'yy', 'zz', 'xxx', 'yyy', 'zzz', 'xxxx', 'yyyy', 'zzzz']"
      ]
     },
     "execution_count": 27,
     "metadata": {},
     "output_type": "execute_result"
    }
   ],
   "source": [
    "l = [] \n",
    "[l.append(i) for i in ['x','y','z']] and [l.append(2*i) for i in ['x','y','z']] and [l.append(3*i) for i in ['x','y','z']] and [l.append(4*i) for i in ['x','y','z']]\n",
    "l"
   ]
  },
  {
   "cell_type": "code",
   "execution_count": 38,
   "id": "16ddd5e6",
   "metadata": {},
   "outputs": [
    {
     "data": {
      "text/plain": [
       "[[2], [3], [4], [3], [4], [5], [4], [5], [6]]"
      ]
     },
     "execution_count": 38,
     "metadata": {},
     "output_type": "execute_result"
    }
   ],
   "source": [
    "l = []\n",
    "[l.append([i]) or l.append([i+1]) or l.append([i+2]) for i in range(2,5)]\n",
    "l"
   ]
  },
  {
   "cell_type": "code",
   "execution_count": 39,
   "id": "b5f3af6b",
   "metadata": {},
   "outputs": [
    {
     "data": {
      "text/plain": [
       "[[2, 3, 4, 5], [3, 4, 5, 6], [4, 5, 6, 7], [5, 6, 7, 8]]"
      ]
     },
     "execution_count": 39,
     "metadata": {},
     "output_type": "execute_result"
    }
   ],
   "source": [
    "l = []\n",
    "[[i,i+1,i+2,i+3] for i in range(2,6)]"
   ]
  },
  {
   "cell_type": "code",
   "execution_count": 42,
   "id": "819cfe26",
   "metadata": {},
   "outputs": [
    {
     "data": {
      "text/plain": [
       "[(1, 1), (2, 1), (3, 1), (1, 2), (2, 2), (3, 2), (1, 3), (2, 3), (3, 3)]"
      ]
     },
     "execution_count": 42,
     "metadata": {},
     "output_type": "execute_result"
    }
   ],
   "source": [
    "l = []\n",
    "[l.extend([(1,i),(2,i),(3,i)]) for i in range(1,4)]\n",
    "l"
   ]
  },
  {
   "cell_type": "code",
   "execution_count": null,
   "id": "b587959c",
   "metadata": {},
   "outputs": [],
   "source": []
  }
 ],
 "metadata": {
  "kernelspec": {
   "display_name": "Python 3",
   "language": "python",
   "name": "python3"
  },
  "language_info": {
   "codemirror_mode": {
    "name": "ipython",
    "version": 3
   },
   "file_extension": ".py",
   "mimetype": "text/x-python",
   "name": "python",
   "nbconvert_exporter": "python",
   "pygments_lexer": "ipython3",
   "version": "3.8.8"
  }
 },
 "nbformat": 4,
 "nbformat_minor": 5
}
