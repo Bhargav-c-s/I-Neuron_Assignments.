{
 "cells": [
  {
   "cell_type": "code",
   "execution_count": 58,
   "id": "14240d6b",
   "metadata": {},
   "outputs": [
    {
     "name": "stdout",
     "output_type": "stream",
     "text": [
      "Enter the first side: 4\n",
      "Enter the first side: 5\n",
      "Enter the first side: 6\n",
      "The area of Triangle is:  9.921567416492215\n"
     ]
    }
   ],
   "source": [
    "class Triangle:\n",
    "    def __init__(self):\n",
    "        pass\n",
    "    def Input(self):\n",
    "        a = int(input(\"Enter the first side: \"))\n",
    "        b = int(input(\"Enter the first side: \"))\n",
    "        c = int(input(\"Enter the first side: \"))\n",
    "        return a,b,c\n",
    "\n",
    "class Cal_area(Triangle):\n",
    "    def __init__(self):\n",
    "        pass\n",
    "    def AREA(self):\n",
    "        a,b,c = super(Cal_area,self).Input()\n",
    "        s = (a+b+c)/2\n",
    "        area = (s*(s-a)*(s-b)*(s-c))**0.5\n",
    "        return area\n",
    "    \n",
    "t = Cal_area()\n",
    "print(\"The area of Triangle is: \",t.AREA())"
   ]
  },
  {
   "cell_type": "code",
   "execution_count": null,
   "id": "43c5bba4",
   "metadata": {},
   "outputs": [],
   "source": []
  },
  {
   "cell_type": "code",
   "execution_count": 51,
   "id": "f0ac5d73",
   "metadata": {},
   "outputs": [
    {
     "name": "stdout",
     "output_type": "stream",
     "text": [
      "Please enter the words with space between: bhar some charbweygy cbwycbuyw vcowtwywtw vctctfwdfwfwtdtw vwtctwctwf njnnu beyvcy vcy vcetyvwtvtwvtvwt \n",
      "Enter the number: 7\n"
     ]
    },
    {
     "data": {
      "text/plain": [
       "['charbweygy',\n",
       " 'cbwycbuyw',\n",
       " 'vcowtwywtw',\n",
       " 'vctctfwdfwfwtdtw',\n",
       " 'vwtctwctwf',\n",
       " 'vcetyvwtvtwvtvwt']"
      ]
     },
     "execution_count": 51,
     "metadata": {},
     "output_type": "execute_result"
    }
   ],
   "source": [
    "s = input(\"Please enter the words with space between: \")\n",
    "l = s.split()\n",
    "l\n",
    "n = int(input(\"Enter the number: \"))\n",
    "l1 = []\n",
    "\n",
    "def filter_long_words(l,n):\n",
    "    for i in l:\n",
    "        if len(i)>n:\n",
    "            l1.append(i)\n",
    "        else:\n",
    "            continue\n",
    "\n",
    "filter_long_words(l,n)\n",
    "l1"
   ]
  },
  {
   "cell_type": "code",
   "execution_count": null,
   "id": "81ecf9b3",
   "metadata": {},
   "outputs": [],
   "source": []
  },
  {
   "cell_type": "code",
   "execution_count": 54,
   "id": "dd8962f3",
   "metadata": {},
   "outputs": [
    {
     "name": "stdout",
     "output_type": "stream",
     "text": [
      "Please enter the words with space between: bhargvcvwulyc lvcwyocy vwcv wvcywt kwcyiteftwv yciwyfefwc dvwvct uwvotocw cvc wvc wtvctywtccv\n"
     ]
    },
    {
     "data": {
      "text/plain": [
       "[13, 8, 4, 6, 11, 10, 6, 8, 3, 3, 11]"
      ]
     },
     "execution_count": 54,
     "metadata": {},
     "output_type": "execute_result"
    }
   ],
   "source": [
    "s = input(\"Please enter the words with space between: \")\n",
    "l = s.split()\n",
    "\n",
    "def Maps_len(l):\n",
    "    l1 = []\n",
    "    for i in l:\n",
    "        l1.append(len(i))\n",
    "    return l1\n",
    "\n",
    "Maps_len(l)"
   ]
  },
  {
   "cell_type": "code",
   "execution_count": null,
   "id": "af71e2e7",
   "metadata": {},
   "outputs": [],
   "source": []
  },
  {
   "cell_type": "code",
   "execution_count": 57,
   "id": "877c4618",
   "metadata": {},
   "outputs": [
    {
     "name": "stdout",
     "output_type": "stream",
     "text": [
      "Enter the character: bv\n",
      "Please Enter the single character!!\n",
      "Enter the character: hh\n",
      "Please Enter the single character!!\n",
      "Enter the character: w\n",
      "The character is not Vowel\n"
     ]
    }
   ],
   "source": [
    "\n",
    "def is_Vowel(c):\n",
    "    if c=='A' or c=='E' or c=='I' or c=='O' or c=='U' :\n",
    "        return True\n",
    "    elif c=='a' or c=='e' or c=='i' or c=='o' or c=='u' :\n",
    "        return True\n",
    "    else:\n",
    "        return False\n",
    "\n",
    "while True:\n",
    "    c = input(\"Enter the character: \")\n",
    "    if len(c) == 1:\n",
    "        if is_Vowel(c):\n",
    "            print(\"The character is Vowel\")\n",
    "        else:\n",
    "            print(\"The character is not Vowel\")\n",
    "        break\n",
    "    else :\n",
    "        print(\"Please Enter the single character!!\")    "
   ]
  },
  {
   "cell_type": "code",
   "execution_count": null,
   "id": "ed6be4ff",
   "metadata": {},
   "outputs": [],
   "source": []
  }
 ],
 "metadata": {
  "kernelspec": {
   "display_name": "Python 3",
   "language": "python",
   "name": "python3"
  },
  "language_info": {
   "codemirror_mode": {
    "name": "ipython",
    "version": 3
   },
   "file_extension": ".py",
   "mimetype": "text/x-python",
   "name": "python",
   "nbconvert_exporter": "python",
   "pygments_lexer": "ipython3",
   "version": "3.8.8"
  }
 },
 "nbformat": 4,
 "nbformat_minor": 5
}
