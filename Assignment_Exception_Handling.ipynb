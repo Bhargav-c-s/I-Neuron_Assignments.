{
 "cells": [
  {
   "cell_type": "code",
   "execution_count": 31,
   "id": "7ca184b3",
   "metadata": {},
   "outputs": [
    {
     "name": "stdout",
     "output_type": "stream",
     "text": [
      "division by zero\n",
      "Division with 0 is not possible.\n"
     ]
    }
   ],
   "source": [
    "def compute():\n",
    "    try:\n",
    "        5/0\n",
    "    except Exception as e:\n",
    "        print(e)\n",
    "    finally:\n",
    "        print(\"Division with 0 is not possible.\")\n",
    "\n",
    "compute()"
   ]
  },
  {
   "cell_type": "code",
   "execution_count": 32,
   "id": "378228e7",
   "metadata": {},
   "outputs": [
    {
     "name": "stdout",
     "output_type": "stream",
     "text": [
      "Americans play Baseball.\n",
      "Americans play Cricket.\n",
      "Americans watch Baseball.\n",
      "Americans watch Cricket.\n",
      "Indians play Baseball.\n",
      "Indians play Cricket.\n",
      "Indians watch Baseball.\n",
      "Indians watch Cricket.\n"
     ]
    }
   ],
   "source": [
    "subjects = [\"Americans\",\"Indians\"]\n",
    "verbs = [\"play\",\"watch\"]\n",
    "objects = [\"Baseball\",\"Cricket\"]\n",
    "\n",
    "def sentences(l,m,n):\n",
    "    \"\"\" Please enter l,m,n as subjects,verbs,objects respectively. \"\"\"\n",
    "    for i in l:\n",
    "        s = \"\"\n",
    "        s = s + i + \" \"\n",
    "        for j in m:\n",
    "            s = s + j + \" \"\n",
    "            for k in n:\n",
    "                s = s + k + \".\"\n",
    "                print(s)\n",
    "                s = s.replace(k,\"\")\n",
    "                s = s.replace(\".\",\"\",1)\n",
    "            s = s.replace(j,\"\")\n",
    "            s = s.replace(\" \",\"\",1)\n",
    "            \n",
    "            \n",
    "sentences(subjects,verbs,objects)"
   ]
  },
  {
   "cell_type": "code",
   "execution_count": null,
   "id": "2cecc4a1",
   "metadata": {},
   "outputs": [],
   "source": []
  }
 ],
 "metadata": {
  "kernelspec": {
   "display_name": "Python 3",
   "language": "python",
   "name": "python3"
  },
  "language_info": {
   "codemirror_mode": {
    "name": "ipython",
    "version": 3
   },
   "file_extension": ".py",
   "mimetype": "text/x-python",
   "name": "python",
   "nbconvert_exporter": "python",
   "pygments_lexer": "ipython3",
   "version": "3.8.8"
  }
 },
 "nbformat": 4,
 "nbformat_minor": 5
}
